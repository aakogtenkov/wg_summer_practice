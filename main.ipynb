{
 "cells": [
  {
   "cell_type": "code",
   "execution_count": 1,
   "metadata": {
    "collapsed": false,
    "deletable": true,
    "editable": true,
    "scrolled": true
   },
   "outputs": [],
   "source": [
    "import pandas as pd\n",
    "import matplotlib.pyplot as plt\n",
    "import numpy as np\n",
    "from sklearn import linear_model, neighbors, ensemble, svm, metrics\n",
    "from imblearn.under_sampling import CondensedNearestNeighbour\n",
    "import copy"
   ]
  },
  {
   "cell_type": "markdown",
   "metadata": {
    "deletable": true,
    "editable": true
   },
   "source": [
    "### Составляем различные таблицы"
   ]
  },
  {
   "cell_type": "code",
   "execution_count": 36,
   "metadata": {
    "collapsed": false,
    "deletable": true,
    "editable": true
   },
   "outputs": [
    {
     "name": "stdout",
     "output_type": "stream",
     "text": [
      "Loaded\n"
     ]
    }
   ],
   "source": [
    "dau = pd.read_csv('practice_dau_and.csv', sep='|')\n",
    "pact = pd.read_csv('practice_pact_and.csv', sep='|')\n",
    "print('Loaded')"
   ]
  },
  {
   "cell_type": "markdown",
   "metadata": {
    "deletable": true,
    "editable": true
   },
   "source": [
    "Таблица \"платящих\" игроков:"
   ]
  },
  {
   "cell_type": "code",
   "execution_count": 38,
   "metadata": {
    "collapsed": false,
    "deletable": true,
    "editable": true,
    "scrolled": true
   },
   "outputs": [],
   "source": [
    "pay_players = pact[pact.transactions > 0].reset_index()\n",
    "pay_players = pay_players.drop(['index'], axis='columns')\n",
    "pay_players.to_csv('pay_players_pact.csv', sep='|')\n",
    "pay_players = pay_players.groupby(['id'], as_index=False).count()\n",
    "pay_players = pay_players.drop(['actdate', 'regdate', 'clusters', \n",
    "                                'revenue', 'transactions', 'quest',\n",
    "                                'm_quests', 'crystals', 'store_enters'], axis='columns')\n",
    "#print(pay_players)\n",
    "pay_players.to_csv('pay_players.csv')"
   ]
  },
  {
   "cell_type": "code",
   "execution_count": 39,
   "metadata": {
    "collapsed": false,
    "deletable": true,
    "editable": true
   },
   "outputs": [],
   "source": [
    "dau2 = pd.merge(pay_players, dau, on=['id'], how='left')\n",
    "dau_pact = pd.merge(dau2, pact, on=['id', 'actdate'], how='left')\n",
    "#print(dau_pact)\n",
    "dau_pact.to_csv('pay_players_dau_pact.csv')"
   ]
  },
  {
   "cell_type": "markdown",
   "metadata": {
    "deletable": true,
    "editable": true
   },
   "source": [
    "Таблица активных игроков:"
   ]
  },
  {
   "cell_type": "code",
   "execution_count": null,
   "metadata": {
    "collapsed": true
   },
   "outputs": [],
   "source": [
    "pact['day_n'] = (pd.to_datetime(pact['actdate']) - \n",
    "                 pd.to_datetime(pact['regdate'])).dt.days\n",
    "active_players = pact[pact.day_n < 31 + 14].reset_index()\n",
    "active_players = active_players[pd.to_datetime(active_players.regdate) < pd.to_datetime('2017-04-15')].reset_index()\n",
    "active_players = active_players.pivot_table(values='actdate', columns=['day_n'], index=['id'], aggfunc='count')\n",
    "active_players['w3_played'] = active_players[[17.0, 18, 19, 20, 21, 22, 23]].count(1)\n",
    "active_players['w4_played'] = active_players[[24.0, 25, 26, 27, 28, 29, 30]].count(1)\n",
    "active_players = active_players[active_players['w3_played'] + active_players['w4_played'] > 0]\n",
    "active_players = active_players.reset_index()['id']\n",
    "active_players = pd.DataFrame({'id': active_players})\n",
    "active_players.to_csv('active_players.csv')"
   ]
  },
  {
   "cell_type": "code",
   "execution_count": null,
   "metadata": {
    "collapsed": true,
    "deletable": true,
    "editable": true
   },
   "outputs": [],
   "source": [
    "dau2 = pd.merge(active_players, dau, on=['id'], how='left')\n",
    "dau_pact = pd.merge(dau2, pact, on=['id', 'actdate'], how='left')\n",
    "dau_pact.drop('day_n', axis='columns').to_csv('active_players_dau_pact.csv')"
   ]
  },
  {
   "cell_type": "markdown",
   "metadata": {
    "deletable": true,
    "editable": true
   },
   "source": [
    "#### График, показывающий активность игрока"
   ]
  },
  {
   "cell_type": "code",
   "execution_count": 41,
   "metadata": {
    "collapsed": false,
    "deletable": true,
    "editable": true,
    "scrolled": true
   },
   "outputs": [],
   "source": [
    "def show_player_pgr(player_id, days=31):\n",
    "    player_table = pd.DataFrame({'id': [player_id]})\n",
    "    res = pd.merge(player_table, dau_pact, on=['id'], how='left')\n",
    "    #print(res)\n",
    "    res = res.drop(['crystals', 'store_enters', 'm_quests', 'quest', \n",
    "                    'revenue', 'transactions', 'country', 'clusters'], axis='columns')\n",
    "    res = res.groupby(['actdate'], as_index=False).sum()\n",
    "    res = res.set_index('actdate')\n",
    "    res = res.sort_index(0)\n",
    "    res = res.reset_index()\n",
    "    #print(res)\n",
    "    first_day = res['actdate'][0]\n",
    "    m_later_day = pd.date_range(first_day, periods=days, freq='D').date[-1]\n",
    "    #print(first_day, str(m_later_day))\n",
    "    new_sample_df = res.set_index('actdate').loc[first_day:str(m_later_day)]\n",
    "    new_sample_df.plot()\n",
    "    plt.show()"
   ]
  },
  {
   "cell_type": "code",
   "execution_count": 45,
   "metadata": {
    "collapsed": false,
    "deletable": true,
    "editable": true
   },
   "outputs": [
    {
     "data": {
      "image/png": "[encoded data removed]",
      "text/plain": [
       "<matplotlib.figure.Figure at 0x7f23a79a17b8>"
      ]
     },
     "metadata": {},
     "output_type": "display_data"
    }
   ],
   "source": [
    "show_player_pgr('fd623cb00f')"
   ]
  },
  {
   "cell_type": "markdown",
   "metadata": {
    "deletable": true,
    "editable": true
   },
   "source": [
    "Ниже приведен код для получения таблицы с бинарно закодированной принадлежностью игрока стране.\n",
    "\n",
    "ВАЖНО: код не оптимизирован и использует циклы для прохода по таблице. Для хорошей работы рекомендуется переписать его по-нормальному."
   ]
  },
  {
   "cell_type": "code",
   "execution_count": 16,
   "metadata": {
    "collapsed": false,
    "deletable": true,
    "editable": true
   },
   "outputs": [],
   "source": [
    "country_feature = (pd.read_csv('pay_players_dau_pact.csv').drop('Unnamed: 0', axis='columns').set_index('id')['country']).reset_index()\n",
    "map_country = dict()\n",
    "for i in range(len(country_feature['id'])):\n",
    "    map_country[country_feature['id'][i]] = country_feature['country'][i]\n",
    "country_array = []\n",
    "id_array = []\n",
    "for _id in map_country:\n",
    "    id_array.append(_id)\n",
    "    country_array.append(map_country[_id])\n",
    "country_feature = pd.get_dummies(pd.DataFrame({'id': id_array, 'country': country_array}).set_index('id')['country']).reset_index()"
   ]
  },
  {
   "cell_type": "code",
   "execution_count": 50,
   "metadata": {
    "collapsed": false,
    "deletable": true,
    "editable": true
   },
   "outputs": [
    {
     "name": "stdout",
     "output_type": "stream",
     "text": [
      "               id  --  AE  AM  AR  AT  AU  AW  AZ  BA ...  TT  TW  TZ  UA  US  \\\n",
      "0      8657fd9864   0   0   0   0   0   0   0   0   0 ...   0   0   0   0   1   \n",
      "1      384332f747   0   0   0   0   0   0   0   0   0 ...   0   0   0   0   1   \n",
      "2      22139ab537   0   1   0   0   0   0   0   0   0 ...   0   0   0   0   0   \n",
      "3      6235e3e291   0   0   0   0   0   0   0   0   0 ...   0   0   0   0   0   \n",
      "4      2222236ac7   0   0   0   0   0   0   0   0   0 ...   0   0   0   0   1   \n",
      "5      a3edc8f3c3   0   0   0   0   0   0   0   0   0 ...   0   0   0   0   1   \n",
      "6      5aa4215ec4   0   0   0   0   0   0   0   0   0 ...   0   0   0   0   1   \n",
      "7      e990bd8e89   0   0   0   0   0   0   0   0   0 ...   0   0   0   0   1   \n",
      "8      3da00c9d73   0   0   0   0   0   0   0   0   0 ...   0   0   0   0   1   \n",
      "9      5bf13afc59   0   0   0   0   0   0   0   0   0 ...   0   0   0   0   1   \n",
      "10     4b497cbb05   0   0   0   0   0   0   0   0   0 ...   0   0   0   0   0   \n",
      "11     11420820a9   0   0   0   0   0   0   0   0   0 ...   0   0   0   0   1   \n",
      "12     78889dd1ee   0   0   0   0   0   0   0   0   0 ...   0   0   0   0   0   \n",
      "13     5760d43489   0   0   0   0   0   0   0   0   0 ...   0   0   0   0   0   \n",
      "14     0766ad0e6b   0   0   0   0   0   0   0   0   0 ...   0   0   0   0   1   \n",
      "15     fecce2cdda   0   0   0   0   0   0   0   0   0 ...   0   0   0   0   1   \n",
      "16     951753dedc   0   0   0   0   0   0   0   0   0 ...   0   0   0   0   1   \n",
      "17     d100a08b81   0   0   0   0   0   0   0   0   0 ...   0   0   0   0   1   \n",
      "18     d9a7e8577b   0   0   0   0   0   0   0   0   0 ...   0   0   0   0   0   \n",
      "19     ad72433701   0   0   0   0   0   0   0   0   0 ...   0   0   0   0   1   \n",
      "20     fee3983125   0   0   0   0   0   0   0   0   0 ...   0   0   0   0   0   \n",
      "21     1af2091f22   0   0   0   0   0   0   0   0   0 ...   0   0   0   0   0   \n",
      "22     e096005a95   0   0   0   0   0   0   0   0   0 ...   0   0   0   0   1   \n",
      "23     7880c0a414   0   0   0   0   0   0   0   0   0 ...   0   0   0   0   0   \n",
      "24     7c79d6f828   0   0   0   0   0   0   0   0   0 ...   0   0   0   0   1   \n",
      "25     434da21b46   0   0   0   0   0   0   0   0   0 ...   0   0   0   0   1   \n",
      "26     f4e6a8be14   0   0   0   0   0   0   0   0   0 ...   0   0   0   0   1   \n",
      "27     f352170389   0   0   0   0   0   0   0   0   0 ...   0   0   0   0   0   \n",
      "28     ef42ebeb9d   0   0   0   0   0   0   0   0   0 ...   0   0   0   0   0   \n",
      "29     f244de7adc   0   0   0   0   0   0   0   0   0 ...   0   0   0   0   1   \n",
      "...           ...  ..  ..  ..  ..  ..  ..  ..  ..  .. ...  ..  ..  ..  ..  ..   \n",
      "30391  f247fa282f   0   0   0   0   0   0   0   0   0 ...   0   0   0   0   0   \n",
      "30392  4d2c4cc524   0   0   0   0   0   0   0   0   0 ...   0   0   0   0   0   \n",
      "30393  ad594f8bff   0   0   0   0   0   0   0   0   0 ...   0   0   0   0   1   \n",
      "30394  34fdc5d031   0   0   0   0   0   0   0   0   0 ...   0   0   0   0   1   \n",
      "30395  800e90f268   0   0   0   0   0   0   0   0   0 ...   0   0   0   0   0   \n",
      "30396  417c0b8f16   0   0   0   0   0   0   0   0   0 ...   0   0   0   0   1   \n",
      "30397  2eadb27c6b   0   0   0   0   0   0   0   0   0 ...   0   0   0   0   0   \n",
      "30398  24d594f485   0   0   0   0   0   1   0   0   0 ...   0   0   0   0   0   \n",
      "30399  ff24e34d63   0   0   0   0   0   0   0   0   0 ...   0   0   0   0   1   \n",
      "30400  d38218989b   0   0   0   0   0   0   0   0   0 ...   0   0   0   0   0   \n",
      "30401  e2034b52e5   0   0   0   0   0   0   0   0   0 ...   0   0   0   0   1   \n",
      "30402  42600884c1   0   0   0   0   0   0   0   0   0 ...   0   0   0   0   0   \n",
      "30403  2d67620147   0   0   0   0   0   0   0   0   0 ...   0   0   0   0   0   \n",
      "30404  7e1d1975ce   0   0   0   0   0   0   0   0   0 ...   0   0   0   0   0   \n",
      "30405  dce23365c9   0   0   0   0   0   0   0   0   0 ...   0   0   0   0   0   \n",
      "30406  af936ac421   0   0   0   0   0   0   0   0   0 ...   0   0   0   0   0   \n",
      "30407  fb5c3ddc9d   0   0   0   0   0   0   0   0   0 ...   0   0   0   0   0   \n",
      "30408  299b60004b   0   0   0   0   0   0   0   0   0 ...   0   0   0   0   0   \n",
      "30409  b38609b83a   0   0   0   0   0   0   0   0   0 ...   0   0   0   0   1   \n",
      "30410  3bb96eb6fa   0   0   0   0   0   0   0   0   0 ...   0   0   0   0   0   \n",
      "30411  5e30d2d10b   0   0   0   0   0   0   0   0   0 ...   0   0   0   0   0   \n",
      "30412  724ec7eb0e   0   0   0   0   0   0   0   0   0 ...   0   0   0   0   0   \n",
      "30413  8ba4055d04   0   0   0   0   0   0   0   0   0 ...   0   0   0   0   1   \n",
      "30414  810076904b   0   0   0   0   1   0   0   0   0 ...   0   0   0   0   0   \n",
      "30415  2480c3f032   0   0   0   0   0   0   0   0   0 ...   0   0   0   0   0   \n",
      "30416  3f05ff6e8b   0   0   0   0   0   0   0   0   0 ...   0   0   0   0   0   \n",
      "30417  a9c8b6605e   0   0   0   0   0   0   0   0   0 ...   0   0   0   0   1   \n",
      "30418  7febda534b   0   0   0   0   0   0   0   0   0 ...   0   0   0   0   0   \n",
      "30419  d4211a71e7   0   0   0   0   0   0   0   0   0 ...   0   0   0   0   1   \n",
      "30420  9edc00c357   0   0   0   0   0   0   0   0   0 ...   0   0   0   0   0   \n",
      "\n",
      "       UY  VI  VN  ZA  ZM  \n",
      "0       0   0   0   0   0  \n",
      "1       0   0   0   0   0  \n",
      "2       0   0   0   0   0  \n",
      "3       0   0   0   0   0  \n",
      "4       0   0   0   0   0  \n",
      "5       0   0   0   0   0  \n",
      "6       0   0   0   0   0  \n",
      "7       0   0   0   0   0  \n",
      "8       0   0   0   0   0  \n",
      "9       0   0   0   0   0  \n",
      "10      0   0   0   0   0  \n",
      "11      0   0   0   0   0  \n",
      "12      0   0   0   0   0  \n",
      "13      0   0   0   0   0  \n",
      "14      0   0   0   0   0  \n",
      "15      0   0   0   0   0  \n",
      "16      0   0   0   0   0  \n",
      "17      0   0   0   0   0  \n",
      "18      0   0   0   0   0  \n",
      "19      0   0   0   0   0  \n",
      "20      0   0   0   0   0  \n",
      "21      0   0   0   0   0  \n",
      "22      0   0   0   0   0  \n",
      "23      0   0   0   0   0  \n",
      "24      0   0   0   0   0  \n",
      "25      0   0   0   0   0  \n",
      "26      0   0   0   0   0  \n",
      "27      0   0   0   0   0  \n",
      "28      0   0   0   0   0  \n",
      "29      0   0   0   0   0  \n",
      "...    ..  ..  ..  ..  ..  \n",
      "30391   0   0   0   0   0  \n",
      "30392   0   0   0   1   0  \n",
      "30393   0   0   0   0   0  \n",
      "30394   0   0   0   0   0  \n",
      "30395   0   0   0   0   0  \n",
      "30396   0   0   0   0   0  \n",
      "30397   0   0   0   0   0  \n",
      "30398   0   0   0   0   0  \n",
      "30399   0   0   0   0   0  \n",
      "30400   0   0   0   0   0  \n",
      "30401   0   0   0   0   0  \n",
      "30402   0   0   0   0   0  \n",
      "30403   0   0   0   0   0  \n",
      "30404   0   0   0   0   0  \n",
      "30405   0   0   0   0   0  \n",
      "30406   0   0   0   0   0  \n",
      "30407   0   0   0   0   0  \n",
      "30408   0   0   0   0   0  \n",
      "30409   0   0   0   0   0  \n",
      "30410   0   0   0   0   0  \n",
      "30411   0   0   0   0   0  \n",
      "30412   0   0   0   0   0  \n",
      "30413   0   0   0   0   0  \n",
      "30414   0   0   0   0   0  \n",
      "30415   0   0   0   0   0  \n",
      "30416   0   0   0   0   0  \n",
      "30417   0   0   0   0   0  \n",
      "30418   0   0   0   0   0  \n",
      "30419   0   0   0   0   0  \n",
      "30420   0   0   0   0   0  \n",
      "\n",
      "[30421 rows x 115 columns]\n",
      "Index(['id', '--', 'AE', 'AM', 'AR', 'AT', 'AU', 'AW', 'AZ', 'BA',\n",
      "       ...\n",
      "       'TT', 'TW', 'TZ', 'UA', 'US', 'UY', 'VI', 'VN', 'ZA', 'ZM'],\n",
      "      dtype='object', length=115)\n"
     ]
    }
   ],
   "source": [
    "print(country_feature)\n",
    "print(country_feature.columns)"
   ]
  },
  {
   "cell_type": "markdown",
   "metadata": {
    "deletable": true,
    "editable": true
   },
   "source": [
    "Таблица с данными о сессиях (приведен код для \"платящих\" игроков; код для активных игроков можно получить заменой названия файла pay_players.csv на active_players.csv):"
   ]
  },
  {
   "cell_type": "code",
   "execution_count": null,
   "metadata": {
    "collapsed": true,
    "deletable": true,
    "editable": true
   },
   "outputs": [],
   "source": [
    "pact = pd.read_csv('practice_pact_and.csv', sep='|')\n",
    "players_regdates = pd.DataFrame({'id': pact['id'], 'regdate': pact['regdate']}).drop_duplicates().reset_index().drop('index', axis='columns')\n",
    "pay_players = pd.read_csv('active_players.csv').drop('Unnamed: 0', axis='columns')\n",
    "del pact\n",
    "players_regdates = pd.merge(players_regdates, pay_players, on='id', how='inner')\n",
    "del pay_players\n",
    "sessions = pd.read_csv('practice_sessions_and.csv', sep='|')\n",
    "pay_players_sessions = pd.merge(players_regdates, sessions, on='id', how='inner').drop(['session_number'], axis='columns')\n",
    "pay_players_sessions['day_n'] = (pd.to_datetime(pay_players_sessions['actdate']) - \n",
    "                           pd.to_datetime(pay_players_sessions['regdate'])).dt.days\n",
    "pay_players_sessions = pay_players_sessions[pay_players_sessions.day_n < 31 + 14]\n",
    "pay_players_sessions = pay_players_sessions[pay_players_sessions.day_n >= 0]\n",
    "pay_players_sessions = pay_players_sessions[pd.to_datetime(pay_players_sessions.regdate) < pd.to_datetime('2017-04-15')]\n",
    "pay_players_sessions.to_csv('active_players_sessions.csv', index=False)"
   ]
  },
  {
   "cell_type": "markdown",
   "metadata": {
    "collapsed": true,
    "deletable": true,
    "editable": true
   },
   "source": [
    "# Составляем сводную таблицу"
   ]
  },
  {
   "cell_type": "markdown",
   "metadata": {
    "deletable": true,
    "editable": true
   },
   "source": [
    "Ниже приведен пример для таблицы активных игроков. Для того, чтобы сделать таблицу платящих игроков, достаточно заменить названия файлов active_players_dau_pact.csv на pay_players_dau_pact.csv; active_players_sessions.csv на pay_players_sessions.csv."
   ]
  },
  {
   "cell_type": "code",
   "execution_count": 21,
   "metadata": {
    "collapsed": true,
    "deletable": true,
    "editable": true
   },
   "outputs": [],
   "source": [
    "dau_pact = pd.read_csv('active_players_dau_pact.csv').drop('Unnamed: 0', axis='columns')\n",
    "dau_pact_table = dau_pact.drop(['clusters', 'revenue', 'quest', \n",
    "                          'm_quests', 'crystals', 'store_enters', \n",
    "                          'transactions', 'country'], axis='columns')\n",
    "dau_pact_table['day_n'] = (pd.to_datetime(dau_pact_table['actdate']) - \n",
    "                           pd.to_datetime(dau_pact_table['regdate'])).dt.days\n",
    "dau_pact_table = dau_pact_table[dau_pact_table.day_n < 31 + 14].reset_index()\n",
    "dau_pact_table = dau_pact_table[pd.to_datetime(dau_pact_table.regdate) < pd.to_datetime('2017-04-15')].reset_index()\n",
    "dau_pact_table = dau_pact_table.pivot_table(values='pgr', columns=['day_n'], index=['id'], aggfunc='sum')\n",
    "del dau_pact"
   ]
  },
  {
   "cell_type": "markdown",
   "metadata": {
    "deletable": true,
    "editable": true
   },
   "source": [
    "Составляем таблицу фич:"
   ]
  },
  {
   "cell_type": "code",
   "execution_count": 56,
   "metadata": {
    "collapsed": false,
    "deletable": true,
    "editable": true
   },
   "outputs": [
    {
     "name": "stdout",
     "output_type": "stream",
     "text": [
      "pgr: done\n",
      "clusters: done\n",
      "quest: done\n",
      "m_quests: done\n"
     ]
    }
   ],
   "source": [
    "dau_pact_features = pd.read_csv('active_players_dau_pact.csv').drop('Unnamed: 0', axis='columns')\n",
    "features = ['pgr', 'clusters', 'quest', 'm_quests']\n",
    "dau_pact_features['day_n'] = (pd.to_datetime(dau_pact_features['actdate']) - \n",
    "                           pd.to_datetime(dau_pact_features['regdate'])).dt.days\n",
    "dau_pact_features = dau_pact_features[dau_pact_features.day_n < 31 + 14]\n",
    "dau_pact_features = dau_pact_features[pd.to_datetime(dau_pact_features.regdate) < pd.to_datetime('2017-04-15')]\n",
    "feature_table = pd.DataFrame(dau_pact_features['id'].drop_duplicates())\n",
    "clf_features = []\n",
    "for feat in features:\n",
    "    dau_pact_features_tmp = dau_pact_features.pivot_table(values=feat, columns=['day_n'], index=['id'], aggfunc='sum')\n",
    "    dau_pact_features_tmp[feat+'_w1_mean'] = dau_pact_features_tmp[[3.0, 4, 5, 6, 7, 8, 9]].replace('NaN', 0).mean(1)\n",
    "    dau_pact_features_tmp[feat+'_w2_mean'] = dau_pact_features_tmp[[10.0, 11, 12, 13, 14, 15, 16]].replace('NaN', 0).mean(1)\n",
    "    dau_pact_features_tmp[feat+'_w3_mean'] = dau_pact_features_tmp[[17.0, 18, 19, 20, 21, 22, 23]].replace('NaN', 0).mean(1)\n",
    "    dau_pact_features_tmp[feat+'_w4_mean'] = dau_pact_features_tmp[[24.0, 25, 26, 27, 28, 29, 30]].replace('NaN', 0).mean(1)\n",
    "    dau_pact_features_tmp[feat+'_w1_max'] = dau_pact_features_tmp[[3.0, 4, 5, 6, 7, 8, 9]].replace('NaN', 0).max(1)\n",
    "    dau_pact_features_tmp[feat+'_w2_max'] = dau_pact_features_tmp[[10.0, 11, 12, 13, 14, 15, 16]].replace('NaN', 0).max(1)\n",
    "    dau_pact_features_tmp[feat+'_w3_max'] = dau_pact_features_tmp[[17.0, 18, 19, 20, 21, 22, 23]].replace('NaN', 0).max(1)\n",
    "    dau_pact_features_tmp[feat+'_w4_max'] = dau_pact_features_tmp[[24.0, 25, 26, 27, 28, 29, 30]].replace('NaN', 0).max(1)\n",
    "    dau_pact_features_tmp[feat+'_w1_meandmax'] = (dau_pact_features_tmp[feat+'_w1_mean'] / dau_pact_features_tmp[feat+'_w1_max']).replace('NaN', 0)\n",
    "    dau_pact_features_tmp[feat+'_w2_meandmax'] = (dau_pact_features_tmp[feat+'_w2_mean'] / dau_pact_features_tmp[feat+'_w2_max']).replace('NaN', 0)\n",
    "    dau_pact_features_tmp[feat+'_w3_meandmax'] = (dau_pact_features_tmp[feat+'_w3_mean'] / dau_pact_features_tmp[feat+'_w3_max']).replace('NaN', 0)\n",
    "    dau_pact_features_tmp[feat+'_w4_meandmax'] = (dau_pact_features_tmp[feat+'_w4_mean'] / dau_pact_features_tmp[feat+'_w4_max']).replace('NaN', 0)\n",
    "    #dau_pact_features_tmp[feat+'_w1_av_deviat'] = (dau_pact_features_tmp[feat+'_w1_mean'] - dau_pact_features_tmp[3.0]).abs()\n",
    "    #for i in [4.0, 5.0, 6.0, 7.0, 8.0, 9.0]:\n",
    "    #    dau_pact_features_tmp[feat+'_w1_av_deviat'] += (dau_pact_features_tmp[feat+'_w1_mean'] - dau_pact_features_tmp[i]).abs()\n",
    "    #dau_pact_features_tmp[feat+'_w1_av_deviat'] /= 7\n",
    "    #dau_pact_features_tmp[feat+'_w2_av_deviat'] = (dau_pact_features_tmp[feat+'_w2_mean'] - dau_pact_features_tmp[10.0]).abs()\n",
    "    #for i in [11.0, 12.0, 13.0, 14.0, 15.0, 16.0]:\n",
    "    #    dau_pact_features_tmp[feat+'_w2_av_deviat'] += (dau_pact_features_tmp[feat+'_w2_mean'] - dau_pact_features_tmp[i]).abs()\n",
    "    #dau_pact_features_tmp[feat+'_w2_av_deviat'] /= 7\n",
    "    #dau_pact_features_tmp[feat+'_w3_av_deviat'] = (dau_pact_features_tmp[feat+'_w3_mean'] - dau_pact_features_tmp[17.0]).abs()\n",
    "    #for i in [18.0, 19.0, 20.0, 21.0, 22.0, 23.0]:\n",
    "    #    dau_pact_features_tmp[feat+'_w3_av_deviat'] += (dau_pact_features_tmp[feat+'_w3_mean'] - dau_pact_features_tmp[i]).abs()\n",
    "    #dau_pact_features_tmp[feat+'_w3_av_deviat'] /= 7\n",
    "    #dau_pact_features_tmp[feat+'_w4_av_deviat'] = (dau_pact_features_tmp[feat+'_w4_mean'] - dau_pact_features_tmp[24.0]).abs()\n",
    "    #for i in [25.0, 26.0, 27.0, 28.0, 29.0, 30.0]:\n",
    "    #    dau_pact_features_tmp[feat+'_w4_av_deviat'] += (dau_pact_features_tmp[feat+'_w4_mean'] - dau_pact_features_tmp[i]).abs()\n",
    "    #dau_pact_features_tmp[feat+'_w4_av_deviat'] /= 7\n",
    "    #for col in dau_pact_features_tmp.columns[:-4]:\n",
    "    #    if col >= 3.0 and col <= 30.0:\n",
    "    #        clf_features.append(feat+'_'+str(col))\n",
    "    #    dau_pact_features_tmp.rename(columns={col: feat+'_'+str(col)}, inplace=True)\n",
    "    dau_pact_features_tmp = dau_pact_features_tmp.reset_index()\n",
    "    #print(dau_pact_features_tmp[feat+'_w1_mean'])\n",
    "    \n",
    "    #print(pd.DataFrame({'id': dau_pact_features_tmp['id'],\n",
    "    #                                                      feat+'_w1_mean': dau_pact_features_tmp[feat+'_w1_mean'],\n",
    "    #                                                      feat+'_w2_mean': dau_pact_features_tmp[feat+'_w2_mean'],\n",
    "    #                                                      feat+'_w3_mean': dau_pact_features_tmp[feat+'_w3_mean'],\n",
    "    #                                                      feat+'_w4_mean': dau_pact_features_tmp[feat+'_w4_mean']}))\n",
    "    #print(feature_table)\n",
    "    feature_table = pd.merge(feature_table, pd.DataFrame({'id': dau_pact_features_tmp['id'],\n",
    "                                                          feat+'_w1_mean': dau_pact_features_tmp[feat+'_w1_mean'],\n",
    "                                                          feat+'_w2_mean': dau_pact_features_tmp[feat+'_w2_mean'],\n",
    "                                                          feat+'_w3_mean': dau_pact_features_tmp[feat+'_w3_mean'],\n",
    "                                                          feat+'_w4_mean': dau_pact_features_tmp[feat+'_w4_mean'],\n",
    "                                                          #feat+'_w1_max': dau_pact_features_tmp[feat+'_w1_max'],\n",
    "                                                          #feat+'_w2_max': dau_pact_features_tmp[feat+'_w2_max'],\n",
    "                                                          #feat+'_w3_max': dau_pact_features_tmp[feat+'_w3_max'],\n",
    "                                                          #feat+'_w4_max': dau_pact_features_tmp[feat+'_w4_max'],\n",
    "                                                          feat+'_w1_meandmax': dau_pact_features_tmp[feat+'_w1_meandmax'],\n",
    "                                                          feat+'_w2_meandmax': dau_pact_features_tmp[feat+'_w2_meandmax'],\n",
    "                                                          feat+'_w3_meandmax': dau_pact_features_tmp[feat+'_w3_meandmax'],\n",
    "                                                          feat+'_w4_meandmax': dau_pact_features_tmp[feat+'_w4_meandmax'],\n",
    "                                                          #feat+'_w1_av_deviat': dau_pact_features_tmp[feat+'_w1_av_deviat'],\n",
    "                                                          #feat+'_w2_av_deviat': dau_pact_features_tmp[feat+'_w2_av_deviat'],\n",
    "                                                          #feat+'_w3_av_deviat': dau_pact_features_tmp[feat+'_w3_av_deviat'],\n",
    "                                                          #feat+'_w4_av_deviat': dau_pact_features_tmp[feat+'_w4_av_deviat']\n",
    "                                                         }), \n",
    "                             how='inner', on=['id'])\n",
    "    clf_features += [feat+'_w1_mean',\n",
    "                     feat+'_w2_mean',\n",
    "                     feat+'_w3_mean',\n",
    "                     feat+'_w4_mean',\n",
    "                     #feat+'_w1_max',\n",
    "                     #feat+'_w2_max',\n",
    "                     #feat+'_w3_max',\n",
    "                     #feat+'_w4_max',\n",
    "                     feat+'_w1_meandmax',\n",
    "                     feat+'_w2_meandmax',\n",
    "                     feat+'_w3_meandmax',\n",
    "                     feat+'_w4_meandmax'#,\n",
    "                     #feat+'_w1_av_deviat',\n",
    "                     #feat+'_w2_av_deviat',\n",
    "                     #feat+'_w3_av_deviat',\n",
    "                     #feat+'_w4_av_deviat'\n",
    "                    ]\n",
    "    print(feat + ': done')\n",
    "    #feature_table = pd.merge(feature_table, dau_pact_features_tmp, on='id', how='inner')\n",
    "    #print(feature_table)\n",
    "    #print(pd.DataFrame([dau_pact_features_tmp['id'],\n",
    "    #                                                  dau_pact_features_tmp[feat+'_w1_mean'],\n",
    "    #                                                  dau_pact_features_tmp[feat+'_w2_mean'],\n",
    "    #                                                  dau_pact_features_tmp[feat+'_w3_mean'],\n",
    "    #                                                  dau_pact_features_tmp[feat+'_w4_mean']]))\n",
    "    #print(dau_pact_features)"
   ]
  },
  {
   "cell_type": "markdown",
   "metadata": {
    "deletable": true,
    "editable": true
   },
   "source": [
    "В клетке ниже можно с нуля построить массив фич (вспомогательная клетка):"
   ]
  },
  {
   "cell_type": "code",
   "execution_count": 4,
   "metadata": {
    "collapsed": true,
    "deletable": true,
    "editable": true
   },
   "outputs": [],
   "source": [
    "features = ['pgr', 'clusters', 'quest', 'm_quests', 'transactions', 'revenue']\n",
    "clf_features = []\n",
    "for feat in features:\n",
    "    clf_features += [feat+'_w1_mean',\n",
    "                     feat+'_w2_mean',\n",
    "                     feat+'_w3_mean',\n",
    "                     feat+'_w4_mean',\n",
    "                     #feat+'_w1_max',\n",
    "                     #feat+'_w2_max',\n",
    "                     #feat+'_w3_max',\n",
    "                     #feat+'_w4_max',\n",
    "                     feat+'_w1_meandmax',\n",
    "                     feat+'_w2_meandmax',\n",
    "                     feat+'_w3_meandmax',\n",
    "                     feat+'_w4_meandmax',\n",
    "                     feat+'_w1_av_deviat',\n",
    "                     feat+'_w2_av_deviat',\n",
    "                     feat+'_w3_av_deviat',\n",
    "                     feat+'_w4_av_deviat'\n",
    "                    ]"
   ]
  },
  {
   "cell_type": "markdown",
   "metadata": {
    "deletable": true,
    "editable": true
   },
   "source": [
    "Сохраняем таблицу фич:"
   ]
  },
  {
   "cell_type": "code",
   "execution_count": 23,
   "metadata": {
    "collapsed": true,
    "deletable": true,
    "editable": true
   },
   "outputs": [],
   "source": [
    "#print(feature_table)\n",
    "#print(feature_table.columns)\n",
    "feature_table.to_csv('feature_table.csv', index=False)"
   ]
  },
  {
   "cell_type": "code",
   "execution_count": 24,
   "metadata": {
    "collapsed": true,
    "deletable": true,
    "editable": true
   },
   "outputs": [],
   "source": [
    "feature_table = pd.read_csv('feature_table.csv')"
   ]
  },
  {
   "cell_type": "markdown",
   "metadata": {
    "deletable": true,
    "editable": true
   },
   "source": [
    "Объединяем заготовку сводной таблицы и таблицу фич:"
   ]
  },
  {
   "cell_type": "code",
   "execution_count": 25,
   "metadata": {
    "collapsed": true,
    "deletable": true,
    "editable": true
   },
   "outputs": [],
   "source": [
    "dau_pact_table = pd.merge(dau_pact_table.reset_index(), feature_table, on='id', how='inner')\n",
    "dau_pact_table.set_index('id', inplace=True)"
   ]
  },
  {
   "cell_type": "markdown",
   "metadata": {
    "deletable": true,
    "editable": true
   },
   "source": [
    "Дополнительные фичи и столбцы:"
   ]
  },
  {
   "cell_type": "code",
   "execution_count": 26,
   "metadata": {
    "collapsed": false,
    "deletable": true,
    "editable": true
   },
   "outputs": [],
   "source": [
    "dau_pact_table['m_played'] = dau_pact_table[[3.0, 4, 5, 6, 7, 8, 9, \n",
    "                      10, 11, 12, 13, 14, 15, 16,\n",
    "                      17, 18, 19, 20, 21, 22, 23, \n",
    "                      24, 25, 26, 27, 28, 29, 30]].count(1)\n",
    "dau_pact_table['w1_played'] = dau_pact_table[[3.0, 4, 5, 6, 7, 8, 9]].count(1)\n",
    "dau_pact_table['w2_played'] = dau_pact_table[[10.0, 11, 12, 13, 14, 15, 16]].count(1)\n",
    "dau_pact_table['w3_played'] = dau_pact_table[[17.0, 18, 19, 20, 21, 22, 23]].count(1)\n",
    "dau_pact_table['w4_played'] = dau_pact_table[[24.0, 25, 26, 27, 28, 29, 30]].count(1)\n",
    "dau_pact_table['result_played'] = dau_pact_table[[31.0, 32, 33, 34, 35, 36, 37,\n",
    "                                                  38, 39, 40, 41, 42, 43, 44]].count(1)\n",
    "dau_pact_table['is_active'] = (dau_pact_table['result_played'] > 0) * 1\n",
    "dau_pact_table['result_category'] = (dau_pact_table['result_played'] / 4).round()\n",
    "clf_features += ['w1_played', 'w2_played', 'w3_played', 'w4_played']\n",
    "dau_pact_table = dau_pact_table.drop([0.0, 1.0, 2.0, 3.0, 4.0, 5.0, 6.0, 7.0, 8.0, 9.0, \n",
    "                     10.0, 11.0, 12.0, 13.0, 14.0, 15.0, 16.0, \n",
    "                     17.0, 18.0, 19.0, 20.0, 21.0, 22.0, 23.0,\n",
    "                     24.0, 25.0, 26.0, 27.0, 28.0, 29.0, 30.0,\n",
    "                     31.0, 32.0, 33.0, 34.0, 35.0, 36.0, 37.0,\n",
    "                     38.0, 39.0, 40.0, 41.0, 42.0, 43.0, 44.0], axis='columns')"
   ]
  },
  {
   "cell_type": "markdown",
   "metadata": {
    "deletable": true,
    "editable": true
   },
   "source": [
    "Составляем сводные таблицы на основе данных 3-й таблицы:"
   ]
  },
  {
   "cell_type": "code",
   "execution_count": 27,
   "metadata": {
    "collapsed": true,
    "deletable": true,
    "editable": true
   },
   "outputs": [],
   "source": [
    "players_sessions = pd.read_csv('active_players_sessions.csv')\n",
    "sum_len_sess = players_sessions.pivot_table(values='session_length', columns=['day_n'], index=['id'], aggfunc='sum')\n",
    "n_sess = players_sessions.pivot_table(values='session_length', columns=['day_n'], index=['id'], aggfunc='count')"
   ]
  },
  {
   "cell_type": "code",
   "execution_count": 28,
   "metadata": {
    "collapsed": true,
    "deletable": true,
    "editable": true
   },
   "outputs": [],
   "source": [
    "n_sess['sess_w1_mean'] = n_sess[[3.0, 4, 5, 6, 7, 8, 9]].replace('NaN', 0).mean(1)\n",
    "n_sess['sess_w2_mean'] = n_sess[[10.0, 11, 12, 13, 14, 15, 16]].replace('NaN', 0).mean(1)\n",
    "n_sess['sess_w3_mean'] = n_sess[[17.0, 18, 19, 20, 21, 22, 23]].replace('NaN', 0).mean(1)\n",
    "n_sess['sess_w4_mean'] = n_sess[[24.0, 25, 26, 27, 28, 29, 30]].replace('NaN', 0).mean(1)\n",
    "n_sess['sess_w1_max'] = n_sess[[3.0, 4, 5, 6, 7, 8, 9]].replace('NaN', 0).max(1)\n",
    "n_sess['sess_w2_max'] = n_sess[[10.0, 11, 12, 13, 14, 15, 16]].replace('NaN', 0).max(1)\n",
    "n_sess['sess_w3_max'] = n_sess[[17.0, 18, 19, 20, 21, 22, 23]].replace('NaN', 0).max(1)\n",
    "n_sess['sess_w4_max'] = n_sess[[24.0, 25, 26, 27, 28, 29, 30]].replace('NaN', 0).max(1)\n",
    "n_sess['sess_w1_meandmax'] = n_sess['sess_w1_mean'] / n_sess['sess_w1_max']\n",
    "n_sess['sess_w2_meandmax'] = n_sess['sess_w2_mean'] / n_sess['sess_w2_max']\n",
    "n_sess['sess_w3_meandmax'] = n_sess['sess_w3_mean'] / n_sess['sess_w3_max']\n",
    "n_sess['sess_w4_meandmax'] = n_sess['sess_w4_mean'] / n_sess['sess_w4_max']\n",
    "#n_sess['sess_w1_av_deviat'] = (n_sess['sess_w1_mean'] - n_sess[3.0]).abs()\n",
    "#for i in [4.0, 5.0, 6.0, 7.0, 8.0, 9.0]:\n",
    "#    n_sess['sess_w1_av_deviat'] += (n_sess['sess_w1_mean'] - n_sess[i]).abs()\n",
    "#n_sess['sess_w1_av_deviat'] /= 7\n",
    "#n_sess['sess_w2_av_deviat'] = (n_sess['sess_w2_mean'] - n_sess[10.0]).abs()\n",
    "#for i in [11.0, 12.0, 13.0, 14.0, 15.0, 16.0]:\n",
    "#    n_sess['sess_w2_av_deviat'] += (n_sess['sess_w2_mean'] - n_sess[i]).abs()\n",
    "#n_sess['sess_w2_av_deviat'] /= 7\n",
    "#n_sess['sess_w3_av_deviat'] = (n_sess['sess_w3_mean'] - n_sess[17.0]).abs()\n",
    "#for i in [18.0, 19.0, 20.0, 21.0, 22.0, 23.0]:\n",
    "#    n_sess['sess_w3_av_deviat'] += (n_sess['sess_w3_mean'] - n_sess[i]).abs()\n",
    "#n_sess['sess_w3_av_deviat'] /= 7\n",
    "#n_sess['sess_w4_av_deviat'] = (n_sess['sess_w4_mean'] - n_sess[24.0]).abs()\n",
    "#for i in [25.0, 26.0, 27.0, 28.0, 29.0, 30.0]:\n",
    "#    n_sess['sess_w4_av_deviat'] += (n_sess['sess_w4_mean'] - n_sess[i]).abs()\n",
    "#n_sess['sess_w4_av_deviat'] /= 7\n",
    "clf_features += ['sess_w1_mean',\n",
    "                 'sess_w2_mean',\n",
    "                 'sess_w3_mean',\n",
    "                 'sess_w4_mean',\n",
    "                 #'sess_w1_max',\n",
    "                 #'sess_w2_max',\n",
    "                 #'sess_w3_max',\n",
    "                 #'sess_w4_max',\n",
    "                 'sess_w1_meandmax',\n",
    "                 'sess_w2_meandmax',\n",
    "                 'sess_w3_meandmax',\n",
    "                 'sess_w4_meandmax'#,\n",
    "                 #'sess_w1_av_deviat',\n",
    "                 #'sess_w2_av_deviat',\n",
    "                 #'sess_w3_av_deviat',\n",
    "                 #'sess_w4_av_deviat'\n",
    "                ]\n",
    "n_sess.reset_index(inplace=True)\n",
    "sum_len_sess['lensess_w1_mean'] = sum_len_sess[[3.0, 4, 5, 6, 7, 8, 9]].replace('NaN', 0).mean(1)\n",
    "sum_len_sess['lensess_w2_mean'] = sum_len_sess[[10.0, 11, 12, 13, 14, 15, 16]].replace('NaN', 0).mean(1)\n",
    "sum_len_sess['lensess_w3_mean'] = sum_len_sess[[17.0, 18, 19, 20, 21, 22, 23]].replace('NaN', 0).mean(1)\n",
    "sum_len_sess['lensess_w4_mean'] = sum_len_sess[[24.0, 25, 26, 27, 28, 29, 30]].replace('NaN', 0).mean(1)\n",
    "sum_len_sess['lensess_w1_max'] = sum_len_sess[[3.0, 4, 5, 6, 7, 8, 9]].replace('NaN', 0).max(1)\n",
    "sum_len_sess['lensess_w2_max'] = sum_len_sess[[10.0, 11, 12, 13, 14, 15, 16]].replace('NaN', 0).max(1)\n",
    "sum_len_sess['lensess_w3_max'] = sum_len_sess[[17.0, 18, 19, 20, 21, 22, 23]].replace('NaN', 0).max(1)\n",
    "sum_len_sess['lensess_w4_max'] = sum_len_sess[[24.0, 25, 26, 27, 28, 29, 30]].replace('NaN', 0).max(1)\n",
    "sum_len_sess['lensess_w1_meandmax'] = sum_len_sess['lensess_w1_mean'] / sum_len_sess['lensess_w1_max']\n",
    "sum_len_sess['lensess_w2_meandmax'] = sum_len_sess['lensess_w2_mean'] / sum_len_sess['lensess_w2_max']\n",
    "sum_len_sess['lensess_w3_meandmax'] = sum_len_sess['lensess_w3_mean'] / sum_len_sess['lensess_w3_max']\n",
    "sum_len_sess['lensess_w4_meandmax'] = sum_len_sess['lensess_w4_mean'] / sum_len_sess['lensess_w4_max']\n",
    "#sum_len_sess['lensess_w1_av_deviat'] = (sum_len_sess['lensess_w1_mean'] - sum_len_sess[3.0]).abs()\n",
    "#for i in [4.0, 5.0, 6.0, 7.0, 8.0, 9.0]:\n",
    "#    sum_len_sess['lensess_w1_av_deviat'] += (sum_len_sess['lensess_w1_mean'] - sum_len_sess[i]).abs()\n",
    "#sum_len_sess['lensess_w1_av_deviat'] /= 7\n",
    "#sum_len_sess['lensess_w2_av_deviat'] = (sum_len_sess['lensess_w2_mean'] - sum_len_sess[10.0]).abs()\n",
    "#for i in [11.0, 12.0, 13.0, 14.0, 15.0, 16.0]:\n",
    "#    sum_len_sess['lensess_w2_av_deviat'] += (sum_len_sess['lensess_w2_mean'] - sum_len_sess[i]).abs()\n",
    "#sum_len_sess['lensess_w2_av_deviat'] /= 7\n",
    "#sum_len_sess['lensess_w3_av_deviat'] = (sum_len_sess['lensess_w3_mean'] - sum_len_sess[17.0]).abs()\n",
    "#for i in [18.0, 19.0, 20.0, 21.0, 22.0, 23.0]:\n",
    "#    sum_len_sess['lensess_w3_av_deviat'] += (sum_len_sess['lensess_w3_mean'] - sum_len_sess[i]).abs()\n",
    "#sum_len_sess['lensess_w3_av_deviat'] /= 7\n",
    "#sum_len_sess['lensess_w4_av_deviat'] = (sum_len_sess['lensess_w4_mean'] - sum_len_sess[24.0]).abs()\n",
    "#for i in [25.0, 26.0, 27.0, 28.0, 29.0, 30.0]:\n",
    "#    sum_len_sess['lensess_w4_av_deviat'] += (sum_len_sess['lensess_w4_mean'] - sum_len_sess[i]).abs()\n",
    "#sum_len_sess['lensess_w4_av_deviat'] /= 7\n",
    "sum_len_sess.reset_index(inplace=True)\n",
    "sess_features = pd.DataFrame({'id': n_sess['id'],\n",
    "                              'sess_w1_mean': n_sess['sess_w1_mean'],\n",
    "                              'sess_w2_mean': n_sess['sess_w2_mean'],\n",
    "                              'sess_w3_mean': n_sess['sess_w3_mean'],\n",
    "                              'sess_w4_mean': n_sess['sess_w4_mean'],\n",
    "                              #'sess_w1_max': n_sess['sess_w1_max'],\n",
    "                              #'sess_w2_max': n_sess['sess_w2_max'],\n",
    "                              #'sess_w3_max': n_sess['sess_w3_max'],\n",
    "                              #'sess_w4_max': n_sess['sess_w4_max'],\n",
    "                              'sess_w1_meandmax': n_sess['sess_w1_meandmax'],\n",
    "                              'sess_w2_meandmax': n_sess['sess_w2_meandmax'],\n",
    "                              'sess_w3_meandmax': n_sess['sess_w3_meandmax'],\n",
    "                              'sess_w4_meandmax': n_sess['sess_w4_meandmax']#,\n",
    "                              #'sess_w1_av_deviat': n_sess['sess_w1_av_deviat'],\n",
    "                              #'sess_w2_av_deviat': n_sess['sess_w2_av_deviat'],\n",
    "                              #'sess_w3_av_deviat': n_sess['sess_w3_av_deviat'],\n",
    "                              #'sess_w4_av_deviat': n_sess['sess_w4_av_deviat']\n",
    "                             })\n",
    "sess_features = pd.merge(sess_features, pd.DataFrame({'id': sum_len_sess['id'],\n",
    "                              'lensess_w1_mean': sum_len_sess['lensess_w1_mean'],\n",
    "                              'lensess_w2_mean': sum_len_sess['lensess_w2_mean'],\n",
    "                              'lensess_w3_mean': sum_len_sess['lensess_w3_mean'],\n",
    "                              'lensess_w4_mean': sum_len_sess['lensess_w4_mean'],\n",
    "                              #'lensess_w1_max': sum_len_sess['lensess_w1_max'],\n",
    "                              #'lensess_w2_max': sum_len_sess['lensess_w2_max'],\n",
    "                              #'lensess_w3_max': sum_len_sess['lensess_w3_max'],\n",
    "                              #'lensess_w4_max': sum_len_sess['lensess_w4_max'],\n",
    "                              'lensess_w1_meandmax': sum_len_sess['lensess_w1_meandmax'],\n",
    "                              'lensess_w2_meandmax': sum_len_sess['lensess_w2_meandmax'],\n",
    "                              'lensess_w3_meandmax': sum_len_sess['lensess_w3_meandmax'],\n",
    "                              'lensess_w4_meandmax': sum_len_sess['lensess_w4_meandmax']#,\n",
    "                              #'lensess_w1_av_deviat': sum_len_sess['lensess_w1_av_deviat'],\n",
    "                              #'lensess_w2_av_deviat': sum_len_sess['lensess_w2_av_deviat'],\n",
    "                              #'lensess_w3_av_deviat': sum_len_sess['lensess_w3_av_deviat'],\n",
    "                              #'lensess_w4_av_deviat': sum_len_sess['lensess_w4_av_deviat']\n",
    "                                                     }),\n",
    "                        how='inner', on='id')\n",
    "clf_features += ['lensess_w1_mean',\n",
    "                 'lensess_w2_mean',\n",
    "                 'lensess_w3_mean',\n",
    "                 'lensess_w4_mean',\n",
    "                 #'lensess_w1_max',\n",
    "                 #'lensess_w2_max',\n",
    "                 #'lensess_w3_max',\n",
    "                 #'lensess_w4_max',\n",
    "                 'lensess_w1_meandmax',\n",
    "                 'lensess_w2_meandmax',\n",
    "                 'lensess_w3_meandmax',\n",
    "                 'lensess_w4_meandmax'#,\n",
    "                 #'lensess_w1_av_deviat',\n",
    "                 #'lensess_w2_av_deviat',\n",
    "                 #'lensess_w3_av_deviat',\n",
    "                 #'lensess_w4_av_deviat'\n",
    "                ]"
   ]
  },
  {
   "cell_type": "code",
   "execution_count": 29,
   "metadata": {
    "collapsed": true,
    "deletable": true,
    "editable": true
   },
   "outputs": [],
   "source": [
    "dau_pact_table = pd.merge(dau_pact_table.reset_index(), sess_features, on='id', how='inner')"
   ]
  },
  {
   "cell_type": "markdown",
   "metadata": {
    "deletable": true,
    "editable": true
   },
   "source": [
    "Cписок фич, которые мы будем использовать для обучения:"
   ]
  },
  {
   "cell_type": "code",
   "execution_count": 30,
   "metadata": {
    "collapsed": false,
    "deletable": true,
    "editable": true
   },
   "outputs": [
    {
     "name": "stdout",
     "output_type": "stream",
     "text": [
      "['pgr_w1_mean', 'pgr_w2_mean', 'pgr_w3_mean', 'pgr_w4_mean', 'pgr_w1_meandmax', 'pgr_w2_meandmax', 'pgr_w3_meandmax', 'pgr_w4_meandmax', 'clusters_w1_mean', 'clusters_w2_mean', 'clusters_w3_mean', 'clusters_w4_mean', 'clusters_w1_meandmax', 'clusters_w2_meandmax', 'clusters_w3_meandmax', 'clusters_w4_meandmax', 'quest_w1_mean', 'quest_w2_mean', 'quest_w3_mean', 'quest_w4_mean', 'quest_w1_meandmax', 'quest_w2_meandmax', 'quest_w3_meandmax', 'quest_w4_meandmax', 'm_quests_w1_mean', 'm_quests_w2_mean', 'm_quests_w3_mean', 'm_quests_w4_mean', 'm_quests_w1_meandmax', 'm_quests_w2_meandmax', 'm_quests_w3_meandmax', 'm_quests_w4_meandmax', 'w1_played', 'w2_played', 'w3_played', 'w4_played', 'sess_w1_mean', 'sess_w2_mean', 'sess_w3_mean', 'sess_w4_mean', 'sess_w1_meandmax', 'sess_w2_meandmax', 'sess_w3_meandmax', 'sess_w4_meandmax', 'lensess_w1_mean', 'lensess_w2_mean', 'lensess_w3_mean', 'lensess_w4_mean', 'lensess_w1_meandmax', 'lensess_w2_meandmax', 'lensess_w3_meandmax', 'lensess_w4_meandmax']\n"
     ]
    }
   ],
   "source": [
    "print(clf_features)"
   ]
  },
  {
   "cell_type": "markdown",
   "metadata": {
    "deletable": true,
    "editable": true
   },
   "source": [
    "#### Регрессия:"
   ]
  },
  {
   "cell_type": "code",
   "execution_count": 53,
   "metadata": {
    "collapsed": false,
    "deletable": true,
    "editable": true
   },
   "outputs": [
    {
     "name": "stderr",
     "output_type": "stream",
     "text": [
      "/usr/local/lib/python3.4/dist-packages/ipykernel/__main__.py:15: UserWarning: Boolean Series key will be reindexed to match DataFrame index.\n",
      "/usr/local/lib/python3.4/dist-packages/ipykernel/__main__.py:16: UserWarning: Boolean Series key will be reindexed to match DataFrame index.\n"
     ]
    }
   ],
   "source": [
    "threshold = 36000\n",
    "CLF_THRESHOLD = 0.5\n",
    "\n",
    "dau_pact_table.fillna(0, inplace=True)\n",
    "dau_pact_table.replace(np.inf, 0, inplace=True)\n",
    "dau_pact_table.replace(-np.inf, 0, inplace=True)\n",
    "dau_pact_table.reset_index(inplace=True)\n",
    "\n",
    "train_input_clf = dau_pact_table[:threshold].as_matrix(columns=clf_features)\n",
    "train_output_clf = np.array(dau_pact_table['is_active'][:threshold].tolist())\n",
    "\n",
    "fitted_clf_gbr = ensemble.GradientBoostingRegressor(subsample=0.7, loss='ls').fit(train_input_clf, train_output_clf)\n",
    "dau_pact_table['predict_active'] = (fitted_clf_gbr.predict(dau_pact_table.as_matrix(\n",
    "                                                            columns=clf_features)) > CLF_THRESHOLD) * 1\n",
    "train_input_prd = dau_pact_table[:threshold][dau_pact_table['is_active'] == 1].as_matrix(columns=clf_features)\n",
    "train_output_prd = np.array(dau_pact_table[:threshold][dau_pact_table['is_active'] == 1]['result_played'].tolist())\n",
    "\n",
    "fitted_prd_etr = ensemble.ExtraTreesRegressor(n_estimators=100).fit(train_input_prd, train_output_prd)\n",
    "dau_pact_table['predict_days'] = fitted_prd_etr.predict(dau_pact_table.as_matrix(columns=clf_features))\n",
    "\n",
    "#dau_pact_table['predict_active'] = dau_pact_table['predict_active'] * (dau_pact_table['predict_days'] > 0)\n",
    "\n",
    "dau_pact_table.set_index('id', inplace=True)"
   ]
  },
  {
   "cell_type": "markdown",
   "metadata": {
    "deletable": true,
    "editable": true
   },
   "source": [
    "#### Результаты:"
   ]
  },
  {
   "cell_type": "code",
   "execution_count": 54,
   "metadata": {
    "collapsed": true,
    "deletable": true,
    "editable": true
   },
   "outputs": [],
   "source": [
    "dau_pact_table['clf_acc'] = (dau_pact_table['is_active'] == dau_pact_table['predict_active']) * 1\n",
    "dau_pact_table['clf_e1'] = (dau_pact_table['is_active'] > dau_pact_table['predict_active']) * 1\n",
    "dau_pact_table['clf_e2'] = (dau_pact_table['is_active'] < dau_pact_table['predict_active']) * 1\n",
    "dau_pact_table['prd_delta'] = ((dau_pact_table['result_played'] - dau_pact_table['predict_days']).abs())\n",
    "dau_pact_table['overall_delta'] = ((dau_pact_table['result_played'] * dau_pact_table['is_active'] - dau_pact_table['predict_days'] * dau_pact_table['predict_active']).abs())"
   ]
  },
  {
   "cell_type": "code",
   "execution_count": 55,
   "metadata": {
    "collapsed": false
   },
   "outputs": [
    {
     "name": "stderr",
     "output_type": "stream",
     "text": [
      "/usr/local/lib/python3.4/dist-packages/ipykernel/__main__.py:1: UserWarning: Boolean Series key will be reindexed to match DataFrame index.\n",
      "  if __name__ == '__main__':\n",
      "/usr/local/lib/python3.4/dist-packages/ipykernel/__main__.py:12: UserWarning: Boolean Series key will be reindexed to match DataFrame index.\n"
     ]
    },
    {
     "name": "stdout",
     "output_type": "stream",
     "text": [
      "Среднее отклонение классификатора активности: 0.187707725271\n",
      "Ошибка классификатора 1 рода (игрок на самом деле активен): 0.109881396251\n",
      "Ошибка классификатора 2 рода (игрок на самом деле неактивен): 0.07782632902\n",
      "Среднее отклонение предсказателя дней: 2.74061981446\n",
      "Среднее общее отклонение: 1.93253943617\n",
      "[45084, 15278, 5750, 1164, 108]\n",
      "[19267, 12730, 3291, 466, 62]\n"
     ]
    },
    {
     "data": {
      "image/png": "[encoded data removed]",
      "text/plain": [
       "<matplotlib.figure.Figure at 0x7fa395c55550>"
      ]
     },
     "metadata": {},
     "output_type": "display_data"
    },
    {
     "data": {
      "image/png": "[encoded data removed]",
      "text/plain": [
       "<matplotlib.figure.Figure at 0x7fa395c48828>"
      ]
     },
     "metadata": {},
     "output_type": "display_data"
    }
   ],
   "source": [
    "prd_delta = dau_pact_table[threshold:][dau_pact_table['is_active'] == 1]['prd_delta'].mean()\n",
    "clf_delta = 1 - dau_pact_table['clf_acc'][threshold:].mean()\n",
    "clf_e1 = dau_pact_table['clf_e1'][threshold:].mean()\n",
    "clf_e2 = dau_pact_table['clf_e2'][threshold:].mean()\n",
    "overall_delta = dau_pact_table['overall_delta'][threshold:].mean()\n",
    "print('Среднее отклонение классификатора активности:', clf_delta)\n",
    "print('Ошибка классификатора 1 рода (игрок на самом деле активен):', clf_e1)\n",
    "print('Ошибка классификатора 2 рода (игрок на самом деле неактивен):', clf_e2)\n",
    "print('Среднее отклонение предсказателя дней:', prd_delta)\n",
    "print('Среднее общее отклонение:', overall_delta)\n",
    "overall_delta_round = dau_pact_table['overall_delta'][threshold:].round().reset_index().pivot_table(values=['id'], index=['overall_delta'], aggfunc='count')\n",
    "active_delta_round = dau_pact_table[threshold:][dau_pact_table['is_active'] == 1.0]['overall_delta'].round().reset_index().pivot_table(values=['id'], index=['overall_delta'], aggfunc='count')\n",
    "overall_delta_round.plot()\n",
    "categories_delta = [int(overall_delta_round[0:3].sum()), int(overall_delta_round[3:6].sum()), int(overall_delta_round[6:9].sum()), int(overall_delta_round[9:12].sum()), int(overall_delta_round[12:14].sum())]\n",
    "active_categories_delta = [int(active_delta_round[0:3].sum()), int(active_delta_round[3:6].sum()), int(active_delta_round[6:9].sum()), int(active_delta_round[9:12].sum()), int(active_delta_round[12:14].sum())]\n",
    "print(categories_delta)\n",
    "print(active_categories_delta)\n",
    "plt.show()\n",
    "plt.plot(categories_delta, color='red')\n",
    "plt.plot(active_categories_delta, color='magenta')\n",
    "plt.show()"
   ]
  },
  {
   "cell_type": "markdown",
   "metadata": {},
   "source": [
    "Результат для \"платящих\" игроков:"
   ]
  },
  {
   "cell_type": "code",
   "execution_count": 15,
   "metadata": {
    "collapsed": false,
    "deletable": true,
    "editable": true
   },
   "outputs": [
    {
     "name": "stdout",
     "output_type": "stream",
     "text": [
      "Среднее отклонение классификатора активности: 0.106276952563\n",
      "Ошибка классификатора 1 рода (игрок на самом деле активен): 0.0635361763297\n",
      "Ошибка классификатора 2 рода (игрок на самом деле неактивен): 0.0427407762338\n",
      "Среднее отклонение предсказателя дней: 2.65928556298\n",
      "Среднее общее отклонение: 1.15649928126\n",
      "[9023, 1630, 540, 115, 16]\n",
      "[2341, 1339, 349, 75, 11]\n"
     ]
    },
    {
     "name": "stderr",
     "output_type": "stream",
     "text": [
      "/usr/local/lib/python3.4/dist-packages/ipykernel/__main__.py:1: UserWarning: Boolean Series key will be reindexed to match DataFrame index.\n",
      "  if __name__ == '__main__':\n",
      "/usr/local/lib/python3.4/dist-packages/ipykernel/__main__.py:12: UserWarning: Boolean Series key will be reindexed to match DataFrame index.\n"
     ]
    },
    {
     "data": {
      "image/png": "[encoded data removed]",
      "text/plain": [
       "<matplotlib.figure.Figure at 0x7fa397eba358>"
      ]
     },
     "metadata": {},
     "output_type": "display_data"
    },
    {
     "data": {
      "image/png": "[encoded data removed]",
      "text/plain": [
       "<matplotlib.figure.Figure at 0x7fa395e787f0>"
      ]
     },
     "metadata": {},
     "output_type": "display_data"
    }
   ],
   "source": []
  },
  {
   "cell_type": "markdown",
   "metadata": {
    "deletable": true,
    "editable": true
   },
   "source": [
    "Важность свойств в порядке убывания важности:"
   ]
  },
  {
   "cell_type": "code",
   "execution_count": 35,
   "metadata": {
    "collapsed": false,
    "deletable": true,
    "editable": true
   },
   "outputs": [
    {
     "name": "stdout",
     "output_type": "stream",
     "text": [
      "(0.23257668902303283, 'w4_played')\n",
      "(0.060645126237111976, 'lensess_w4_meandmax')\n",
      "(0.038379329278801048, 'pgr_w4_mean')\n",
      "(0.03642224883051081, 'pgr_w4_meandmax')\n",
      "(0.029605292732231808, 'lensess_w4_mean')\n",
      "(0.02949142064140443, 'lensess_w3_mean')\n",
      "(0.02807181586987877, 'w3_played')\n",
      "(0.027042689391797849, 'quest_w4_mean')\n",
      "(0.026030783548216512, 'sess_w3_mean')\n",
      "(0.026011729109218375, 'sess_w4_mean')\n",
      "(0.023382559207382032, 'quest_w4_meandmax')\n",
      "(0.023190772042011441, 'lensess_w1_meandmax')\n",
      "(0.020848463229956534, 'lensess_w2_mean')\n",
      "(0.020806865130015523, 'lensess_w3_meandmax')\n",
      "(0.02076880433499903, 'clusters_w1_mean')\n",
      "(0.018859804928288652, 'lensess_w2_meandmax')\n",
      "(0.018237245840745486, 'clusters_w4_mean')\n",
      "(0.017419429506068368, 'm_quests_w3_mean')\n",
      "(0.016521174246234557, 'pgr_w3_mean')\n",
      "(0.016493022916095557, 'sess_w4_meandmax')\n",
      "(0.01413115692774191, 'sess_w2_meandmax')\n",
      "(0.014121706609500346, 'lensess_w1_mean')\n",
      "(0.014021934443081792, 'sess_w1_mean')\n",
      "(0.012945231559509818, 'm_quests_w4_mean')\n",
      "(0.01292253098680618, 'sess_w2_mean')\n",
      "(0.012468915621111682, 'pgr_w2_mean')\n",
      "(0.012344184702164798, 'sess_w1_meandmax')\n",
      "(0.011766930353516962, 'pgr_w1_mean')\n",
      "(0.011720399717319705, 'clusters_w2_mean')\n",
      "(0.011608857016870146, 'pgr_w3_meandmax')\n",
      "(0.010764665067618631, 'quest_w3_mean')\n",
      "(0.0099071464492066913, 'clusters_w1_meandmax')\n",
      "(0.0097630034344026919, 'clusters_w4_meandmax')\n",
      "(0.0095500718449085028, 'quest_w2_meandmax')\n",
      "(0.0094390720717842363, 'quest_w1_mean')\n",
      "(0.0084714435547304442, 'm_quests_w2_mean')\n",
      "(0.0080740806305989628, 'pgr_w2_meandmax')\n",
      "(0.007456881021990042, 'm_quests_w1_mean')\n",
      "(0.0071117501944054414, 'sess_w3_meandmax')\n",
      "(0.0069394397546566466, 'quest_w2_mean')\n",
      "(0.0063576861030517195, 'w2_played')\n",
      "(0.0061876141759998719, 'quest_w3_meandmax')\n",
      "(0.0057369450240653055, 'w1_played')\n",
      "(0.0052994593349647871, 'm_quests_w4_meandmax')\n",
      "(0.0052492592940420382, 'clusters_w3_mean')\n",
      "(0.0052140706388943111, 'quest_w1_meandmax')\n",
      "(0.0042903335561774005, 'm_quests_w3_meandmax')\n",
      "(0.0040175846480813944, 'm_quests_w2_meandmax')\n",
      "(0.0032943568847899384, 'pgr_w1_meandmax')\n",
      "(0.0032070958300975203, 'm_quests_w1_meandmax')\n",
      "(0.0025579594204764426, 'clusters_w2_meandmax')\n",
      "(0.002252967083432035, 'clusters_w3_meandmax')\n"
     ]
    }
   ],
   "source": [
    "w_features = copy.copy(clf_features)\n",
    "for i in range(len(clf_features)):\n",
    "    w_features[i] = (fitted_clf_gbr.feature_importances_[i], clf_features[i])\n",
    "w_features = sorted(w_features)\n",
    "for i in range(len(w_features) - 1, -1, -1):\n",
    "    print(w_features[i])"
   ]
  },
  {
   "cell_type": "markdown",
   "metadata": {
    "deletable": true,
    "editable": true
   },
   "source": [
    "Можно посмотреть соотношение количества TP, TN, FP, FN:"
   ]
  },
  {
   "cell_type": "code",
   "execution_count": 38,
   "metadata": {
    "collapsed": false,
    "deletable": true,
    "editable": true
   },
   "outputs": [
    {
     "name": "stdout",
     "output_type": "stream",
     "text": [
      "[[25525  4500]\n",
      " [ 6365 22883]]\n"
     ]
    }
   ],
   "source": [
    "print(metrics.confusion_matrix(dau_pact_table[threshold:]['is_active'], dau_pact_table[threshold:]['predict_active']))"
   ]
  },
  {
   "cell_type": "code",
   "execution_count": null,
   "metadata": {
    "collapsed": true
   },
   "outputs": [],
   "source": []
  }
 ],
 "metadata": {
  "kernelspec": {
   "display_name": "Python 3",
   "language": "python",
   "name": "python3"
  },
  "language_info": {
   "codemirror_mode": {
    "name": "ipython",
    "version": 3
   },
   "file_extension": ".py",
   "mimetype": "text/x-python",
   "name": "python",
   "nbconvert_exporter": "python",
   "pygments_lexer": "ipython3",
   "version": "3.4.3"
  }
 },
 "nbformat": 4,
 "nbformat_minor": 2
}
