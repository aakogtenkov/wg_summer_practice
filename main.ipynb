{
 "cells": [
  {
   "cell_type": "code",
   "execution_count": 1,
   "metadata": {
    "collapsed": false,
    "deletable": true,
    "editable": true,
    "scrolled": true
   },
   "outputs": [],
   "source": [
    "import pandas as pd\n",
    "import matplotlib.pyplot as plt"
   ]
  },
  {
   "cell_type": "code",
   "execution_count": 2,
   "metadata": {
    "collapsed": false
   },
   "outputs": [
    {
     "name": "stdout",
     "output_type": "stream",
     "text": [
      "Loaded\n"
     ]
    }
   ],
   "source": [
    "dau = pd.read_csv('practice_dau_and.csv', sep='|')\n",
    "pact = pd.read_csv('practice_pact_and.csv', sep='|')\n",
    "print('Loaded')"
   ]
  },
  {
   "cell_type": "code",
   "execution_count": 36,
   "metadata": {
    "collapsed": false,
    "deletable": true,
    "editable": true
   },
   "outputs": [],
   "source": [
    "del pay_players"
   ]
  },
  {
   "cell_type": "code",
   "execution_count": 17,
   "metadata": {
    "collapsed": false,
    "deletable": true,
    "editable": true,
    "scrolled": true
   },
   "outputs": [
    {
     "name": "stdout",
     "output_type": "stream",
     "text": [
      "               id\n",
      "0      0001c0d9c5\n",
      "1      000249ee3b\n",
      "2      0004bbc378\n",
      "3      000bc5be57\n",
      "4      00137c70eb\n",
      "5      001501221a\n",
      "6      001566c949\n",
      "7      0016ec0270\n",
      "8      001bdcf118\n",
      "9      001dcb349d\n",
      "10     001e86bb74\n",
      "11     001f6f6bda\n",
      "12     00217a789a\n",
      "13     00240222ee\n",
      "14     002adc591b\n",
      "15     002d410bd3\n",
      "16     002f2521f5\n",
      "17     0030797a91\n",
      "18     0030b81513\n",
      "19     0032eb2d55\n",
      "20     00332e58de\n",
      "21     003544c4ea\n",
      "22     003717dd8c\n",
      "23     00371a21a9\n",
      "24     00380b3464\n",
      "25     003b4acbbd\n",
      "26     003c981696\n",
      "27     003d74cb8d\n",
      "28     003e1afdab\n",
      "29     003e67dd8a\n",
      "...           ...\n",
      "30391  ffb16a1c26\n",
      "30392  ffb3c42867\n",
      "30393  ffb5376eee\n",
      "30394  ffb71a2641\n",
      "30395  ffbbd7823a\n",
      "30396  ffbd959b77\n",
      "30397  ffbff6e3b0\n",
      "30398  ffc1670161\n",
      "30399  ffc286fc79\n",
      "30400  ffc638b435\n",
      "30401  ffc7cc6362\n",
      "30402  ffca076aee\n",
      "30403  ffd59fa03d\n",
      "30404  ffd5a29fa9\n",
      "30405  ffdc226141\n",
      "30406  ffdd5e88b8\n",
      "30407  ffdf621be9\n",
      "30408  ffe0ac456f\n",
      "30409  ffe5094796\n",
      "30410  ffe5227876\n",
      "30411  ffe8349510\n",
      "30412  ffea788845\n",
      "30413  ffeba687e9\n",
      "30414  ffefc0ce36\n",
      "30415  fff2e64993\n",
      "30416  fff3ae2aba\n",
      "30417  fff5b7c8f9\n",
      "30418  fffa9a7209\n",
      "30419  fffb54fd2c\n",
      "30420  fffd0a9fa4\n",
      "\n",
      "[30421 rows x 1 columns]\n"
     ]
    }
   ],
   "source": [
    "pay_players = pact[pact.transactions > 0].reset_index()\n",
    "pay_players = pay_players.drop(['index'], axis='columns')\n",
    "#print(pay_players)\n",
    "pay_players.to_csv('pay_players_pact.csv', sep='|')\n",
    "pay_players = pay_players.groupby(['id'], as_index=False).count()\n",
    "pay_players = pay_players.drop(['actdate', 'regdate', 'clusters', \n",
    "                                'revenue', 'transactions', 'quest',\n",
    "                                'm_quests', 'crystals', 'store_enters'], axis='columns')\n",
    "print(pay_players)\n",
    "pay_players.to_csv('pay_players.csv')"
   ]
  },
  {
   "cell_type": "code",
   "execution_count": 23,
   "metadata": {
    "collapsed": false,
    "deletable": true,
    "editable": true
   },
   "outputs": [
    {
     "name": "stdout",
     "output_type": "stream",
     "text": [
      "30421\n"
     ]
    }
   ],
   "source": [
    "pp_ids = set()\n",
    "for i in pay_players['id'].index:\n",
    "    pp_ids.add(pay_players['id'][i])\n",
    "print(len(pp_ids))"
   ]
  },
  {
   "cell_type": "code",
   "execution_count": 20,
   "metadata": {
    "collapsed": false,
    "deletable": true,
    "editable": true
   },
   "outputs": [],
   "source": [
    "dau2 = pd.merge(pay_players, dau, on=['id'], how='left')"
   ]
  },
  {
   "cell_type": "code",
   "execution_count": 19,
   "metadata": {
    "collapsed": false,
    "deletable": true,
    "editable": true,
    "scrolled": true
   },
   "outputs": [
    {
     "name": "stdout",
     "output_type": "stream",
     "text": [
      "                 id country  pgr     actdate\n",
      "0        c7a56d9eee      FR   33  2017-01-01\n",
      "1        bd4b8c265d      GB   47  2017-01-20\n",
      "2        bd4b8c265d      GB    6  2017-01-27\n",
      "3        bd4b8c265d      GB   11  2017-01-25\n",
      "4        bd4b8c265d      GB   78  2017-02-05\n",
      "5        bd4b8c265d      GB   11  2017-01-14\n",
      "6        fc2996c189      US   15  2017-01-28\n",
      "7        fbe11f7261      NL   34  2017-01-07\n",
      "8        c379092cc7      KR    9  2017-01-13\n",
      "9        6e103c0821      MY    7  2017-01-12\n",
      "10       6e103c0821      MY   23  2017-01-11\n",
      "11       6e103c0821      MY    4  2017-01-06\n",
      "12       b7ea8381ad      RU    2  2017-01-22\n",
      "13       b7ea8381ad      RU    2  2017-01-03\n",
      "14       4d1070c3e3      IT    2  2017-03-27\n",
      "15       4d1070c3e3      IT    4  2017-03-01\n",
      "16       4d1070c3e3      IT    4  2017-03-22\n",
      "17       4d1070c3e3      IT    6  2017-01-07\n",
      "18       4d1070c3e3      IT   19  2017-01-22\n",
      "19       4d1070c3e3      IT   18  2017-02-06\n",
      "20       4d1070c3e3      IT    9  2017-03-18\n",
      "21       4d1070c3e3      IT    3  2017-02-11\n",
      "22       4d1070c3e3      IT    1  2017-01-25\n",
      "23       4d1070c3e3      IT   31  2017-03-20\n",
      "24       4d1070c3e3      IT   22  2017-02-08\n",
      "25       4d1070c3e3      IT    3  2017-01-31\n",
      "26       f61f4e5806      TH  185  2017-01-04\n",
      "27       c331c41f90      US  132  2017-01-07\n",
      "28       c331c41f90      US  170  2017-01-09\n",
      "29       3ddbde74ef      DE   26  2017-01-10\n",
      "...             ...     ...  ...         ...\n",
      "8519494  763a775373      NZ   36  2017-04-16\n",
      "8519495  20d6f6a4ec      US    8  2017-04-20\n",
      "8519496  c19df12ebe      IN  151  2017-04-28\n",
      "8519497  735201e64b      IN   12  2017-04-29\n",
      "8519498  041123cc7e      DE   42  2017-05-02\n",
      "8519499  e0982c33d9      IN   14  2017-04-20\n",
      "8519500  013f8159b8      GB   20  2017-04-29\n",
      "8519501  101ceb91c5      US    2  2017-04-23\n",
      "8519502  a3cc799258      IT    6  2017-05-01\n",
      "8519503  e983d7ebf6      IN    7  2017-04-15\n",
      "8519504  7b434c087a      SG  102  2017-04-24\n",
      "8519505  26d609b094      IN    8  2017-04-23\n",
      "8519506  95611648b6      BG   13  2017-04-23\n",
      "8519507  2e0b185165      US    9  2017-04-25\n",
      "8519508  d5b54e9a76      US   11  2017-04-25\n",
      "8519509  afe448a3da      PH   20  2017-04-30\n",
      "8519510  fb51bd8d71      IN    8  2017-04-18\n",
      "8519511  d52a1789da      IN    4  2017-04-21\n",
      "8519512  3c534917e0      DE   17  2017-04-24\n",
      "8519513  03a4a6870e      DE   25  2017-04-27\n",
      "8519514  2962c3b70b      AU   61  2017-04-28\n",
      "8519515  c5c633ae04      RU    4  2017-04-27\n",
      "8519516  dd25fb70d4      IN   32  2017-04-25\n",
      "8519517  b232097a30      AU    6  2017-04-28\n",
      "8519518  bb59cba041      US   32  2017-05-01\n",
      "8519519  e9d743511c      US    7  2017-04-30\n",
      "8519520  1b97bd2df6      US   17  2017-04-25\n",
      "8519521  c27bcbea07      AR    4  2017-05-01\n",
      "8519522  72b35fca11      CL   14  2017-04-27\n",
      "8519523  b9628211ec      US    3  2017-05-01\n",
      "\n",
      "[8519524 rows x 4 columns]\n"
     ]
    }
   ],
   "source": [
    "print(dau)"
   ]
  },
  {
   "cell_type": "code",
   "execution_count": 21,
   "metadata": {
    "collapsed": false,
    "deletable": true,
    "editable": true,
    "scrolled": true
   },
   "outputs": [
    {
     "name": "stdout",
     "output_type": "stream",
     "text": [
      "                id country  pgr     actdate\n",
      "0       0001c0d9c5      RU    7  2017-01-28\n",
      "1       0001c0d9c5      RU   23  2017-01-30\n",
      "2       0001c0d9c5      RU  219  2017-01-24\n",
      "3       0001c0d9c5      RU  164  2017-01-26\n",
      "4       0001c0d9c5      RU  169  2017-01-25\n",
      "5       0001c0d9c5      RU   68  2017-01-29\n",
      "6       0001c0d9c5      RU    6  2017-03-01\n",
      "7       000249ee3b      US    2  2017-04-17\n",
      "8       000249ee3b      US   84  2017-04-13\n",
      "9       000249ee3b      US   67  2017-04-16\n",
      "10      000249ee3b      US  227  2017-04-11\n",
      "11      000249ee3b      US   96  2017-04-12\n",
      "12      000249ee3b      US   58  2017-04-13\n",
      "13      0004bbc378      GB   39  2017-03-11\n",
      "14      0004bbc378      GB   75  2017-03-14\n",
      "15      0004bbc378      GB    5  2017-02-25\n",
      "16      0004bbc378      GB   55  2017-03-08\n",
      "17      0004bbc378      GB   93  2017-01-29\n",
      "18      0004bbc378      GB   18  2017-02-12\n",
      "19      0004bbc378      GB   74  2017-04-19\n",
      "20      0004bbc378      GB   51  2017-02-04\n",
      "21      0004bbc378      GB  188  2017-04-04\n",
      "22      0004bbc378      GB   36  2017-03-04\n",
      "23      0004bbc378      GB   13  2017-02-10\n",
      "24      0004bbc378      GB   84  2017-03-07\n",
      "25      0004bbc378      GB   41  2017-02-08\n",
      "26      0004bbc378      GB  113  2017-05-01\n",
      "27      0004bbc378      GB  134  2017-01-25\n",
      "28      0004bbc378      GB  110  2017-04-02\n",
      "29      0004bbc378      GB   80  2017-04-27\n",
      "...            ...     ...  ...         ...\n",
      "946165  fffd0a9fa4      PH  109  2017-05-12\n",
      "946166  fffd0a9fa4      PH  153  2017-05-09\n",
      "946167  fffd0a9fa4      PH    8  2017-04-15\n",
      "946168  fffd0a9fa4      PH   23  2017-04-11\n",
      "946169  fffd0a9fa4      PH    2  2017-03-15\n",
      "946170  fffd0a9fa4      PH  128  2017-04-27\n",
      "946171  fffd0a9fa4      PH   56  2017-05-07\n",
      "946172  fffd0a9fa4      PH   39  2017-05-05\n",
      "946173  fffd0a9fa4      PH   53  2017-04-30\n",
      "946174  fffd0a9fa4      PH  216  2017-05-08\n",
      "946175  fffd0a9fa4      PH    1  2017-04-19\n",
      "946176  fffd0a9fa4      PH   60  2017-05-06\n",
      "946177  fffd0a9fa4      PH   58  2017-05-14\n",
      "946178  fffd0a9fa4      PH   55  2017-05-11\n",
      "946179  fffd0a9fa4      PH   10  2017-04-09\n",
      "946180  fffd0a9fa4      PH  149  2017-04-23\n",
      "946181  fffd0a9fa4      PH   40  2017-05-24\n",
      "946182  fffd0a9fa4      PH   54  2017-05-21\n",
      "946183  fffd0a9fa4      PH  111  2017-04-28\n",
      "946184  fffd0a9fa4      PH   23  2017-05-19\n",
      "946185  fffd0a9fa4      PH   81  2017-04-18\n",
      "946186  fffd0a9fa4      PH   82  2017-05-07\n",
      "946187  fffd0a9fa4      PH   50  2017-05-30\n",
      "946188  fffd0a9fa4      PH    9  2017-05-17\n",
      "946189  fffd0a9fa4      PH  112  2017-04-03\n",
      "946190  fffd0a9fa4      PH   30  2017-04-12\n",
      "946191  fffd0a9fa4      PH  450  2017-03-22\n",
      "946192  fffd0a9fa4      PH   72  2017-05-20\n",
      "946193  fffd0a9fa4      PH   73  2017-04-26\n",
      "946194  fffd0a9fa4      PH  133  2017-03-29\n",
      "\n",
      "[946195 rows x 4 columns]\n"
     ]
    }
   ],
   "source": [
    "print(dau2)"
   ]
  },
  {
   "cell_type": "code",
   "execution_count": 61,
   "metadata": {
    "collapsed": false,
    "deletable": true,
    "editable": true
   },
   "outputs": [
    {
     "name": "stdout",
     "output_type": "stream",
     "text": [
      "    A   B key1   C\n",
      "0  A1  B1   K1  C2\n",
      "1  A2  B2   K1  C2\n",
      "2  A3  B3   K2  C1\n",
      "     B key1\n",
      "A          \n",
      "A4  B0   K0\n",
      "A1  B1   K1\n",
      "A2  B2   K1\n",
      "A3  B3   K2\n",
      "     B key1\n",
      "A          \n",
      "A1  B1   K1\n",
      "A2  B2   K1\n",
      "A3  B3   K2\n",
      "A4  B0   K0\n"
     ]
    }
   ],
   "source": [
    "left = pd.DataFrame({'key1': ['K0', 'K1', 'K1', 'K2'], \n",
    "                     'A': ['A4', 'A1', 'A2', 'A3'], 'B': ['B0', 'B1', 'B2', 'B3']})\n",
    "right = pd.DataFrame({'key1': ['K2', 'K1'], 'C': ['C1', 'C2']})\n",
    "print(pd.merge(left, right, on='key1', how='inner'))\n",
    "left = left.set_index('A')\n",
    "print(left)\n",
    "left = left.sort_index(0)\n",
    "print(left)"
   ]
  },
  {
   "cell_type": "code",
   "execution_count": 22,
   "metadata": {
    "collapsed": true,
    "deletable": true,
    "editable": true
   },
   "outputs": [],
   "source": [
    "dau2.to_csv('pay_players_dau.csv')"
   ]
  },
  {
   "cell_type": "code",
   "execution_count": 24,
   "metadata": {
    "collapsed": false
   },
   "outputs": [],
   "source": [
    "dau_pact = pd.merge(dau2, pact, on=['id', 'actdate'], how='left')"
   ]
  },
  {
   "cell_type": "code",
   "execution_count": 26,
   "metadata": {
    "collapsed": false
   },
   "outputs": [
    {
     "name": "stdout",
     "output_type": "stream",
     "text": [
      "                id country  pgr     actdate     regdate  clusters  revenue  \\\n",
      "0       0001c0d9c5      RU    7  2017-01-28         NaN       NaN      NaN   \n",
      "1       0001c0d9c5      RU   23  2017-01-30  2017-01-24      19.0     0.00   \n",
      "2       0001c0d9c5      RU  219  2017-01-24  2017-01-24      13.0  4237.98   \n",
      "3       0001c0d9c5      RU  164  2017-01-26  2017-01-24      18.0     0.00   \n",
      "4       0001c0d9c5      RU  169  2017-01-25  2017-01-24      17.0  5922.96   \n",
      "5       0001c0d9c5      RU   68  2017-01-29  2017-01-24      19.0  2118.99   \n",
      "6       0001c0d9c5      RU    6  2017-03-01  2017-03-01      -2.0     0.00   \n",
      "7       000249ee3b      US    2  2017-04-17         NaN       NaN      NaN   \n",
      "8       000249ee3b      US   84  2017-04-13  2017-04-11       8.0     0.00   \n",
      "9       000249ee3b      US   67  2017-04-16  2017-04-11       9.0     0.00   \n",
      "10      000249ee3b      US  227  2017-04-11  2017-04-11       5.0     0.00   \n",
      "11      000249ee3b      US   96  2017-04-12  2017-04-11       5.0  3395.49   \n",
      "12      000249ee3b      US   58  2017-04-13  2017-04-11       8.0     0.00   \n",
      "13      0004bbc378      GB   39  2017-03-11  2017-01-20      17.0     0.00   \n",
      "14      0004bbc378      GB   75  2017-03-14  2017-01-20      18.0     0.00   \n",
      "15      0004bbc378      GB    5  2017-02-25  2017-01-20      17.0     0.00   \n",
      "16      0004bbc378      GB   55  2017-03-08  2017-01-20      17.0     0.00   \n",
      "17      0004bbc378      GB   93  2017-01-29  2017-01-20      12.0     0.00   \n",
      "18      0004bbc378      GB   18  2017-02-12         NaN       NaN      NaN   \n",
      "19      0004bbc378      GB   74  2017-04-19  2017-01-20      19.0     0.00   \n",
      "20      0004bbc378      GB   51  2017-02-04  2017-01-20      15.0     0.00   \n",
      "21      0004bbc378      GB  188  2017-04-04  2017-01-20      19.0     0.00   \n",
      "22      0004bbc378      GB   36  2017-03-04  2017-01-20      17.0     0.00   \n",
      "23      0004bbc378      GB   13  2017-02-10         NaN       NaN      NaN   \n",
      "24      0004bbc378      GB   84  2017-03-07  2017-01-20      17.0     0.00   \n",
      "25      0004bbc378      GB   41  2017-02-08  2017-01-20      16.0     0.00   \n",
      "26      0004bbc378      GB  113  2017-05-01  2017-01-20      19.0   868.02   \n",
      "27      0004bbc378      GB  134  2017-01-25  2017-01-20      12.0     0.00   \n",
      "28      0004bbc378      GB  110  2017-04-02  2017-01-20      19.0     0.00   \n",
      "29      0004bbc378      GB   80  2017-04-27  2017-01-20      19.0     0.00   \n",
      "...            ...     ...  ...         ...         ...       ...      ...   \n",
      "946165  fffd0a9fa4      PH  109  2017-05-12  2017-03-21      17.0     0.00   \n",
      "946166  fffd0a9fa4      PH  153  2017-05-09  2017-03-21      17.0     0.00   \n",
      "946167  fffd0a9fa4      PH    8  2017-04-15  2017-03-21      15.0     0.00   \n",
      "946168  fffd0a9fa4      PH   23  2017-04-11  2017-03-21      14.0     0.00   \n",
      "946169  fffd0a9fa4      PH    2  2017-03-15  2017-03-15       9.0   416.99   \n",
      "946170  fffd0a9fa4      PH  128  2017-04-27  2017-03-21      16.0     0.00   \n",
      "946171  fffd0a9fa4      PH   56  2017-05-07  2017-03-21      17.0     0.00   \n",
      "946172  fffd0a9fa4      PH   39  2017-05-05  2017-03-21      16.0     0.00   \n",
      "946173  fffd0a9fa4      PH   53  2017-04-30  2017-03-21      16.0     0.00   \n",
      "946174  fffd0a9fa4      PH  216  2017-05-08  2017-03-21      17.0     0.00   \n",
      "946175  fffd0a9fa4      PH    1  2017-04-19         NaN       NaN      NaN   \n",
      "946176  fffd0a9fa4      PH   60  2017-05-06  2017-03-21      16.0     0.00   \n",
      "946177  fffd0a9fa4      PH   58  2017-05-14  2017-03-21      17.0     0.00   \n",
      "946178  fffd0a9fa4      PH   55  2017-05-11  2017-03-21      17.0     0.00   \n",
      "946179  fffd0a9fa4      PH   10  2017-04-09  2017-03-21      14.0     0.00   \n",
      "946180  fffd0a9fa4      PH  149  2017-04-23  2017-03-21      16.0     0.00   \n",
      "946181  fffd0a9fa4      PH   40  2017-05-24  2017-03-21      17.0     0.00   \n",
      "946182  fffd0a9fa4      PH   54  2017-05-21  2017-03-21      17.0     0.00   \n",
      "946183  fffd0a9fa4      PH  111  2017-04-28  2017-03-21      16.0     0.00   \n",
      "946184  fffd0a9fa4      PH   23  2017-05-19  2017-03-21      17.0     0.00   \n",
      "946185  fffd0a9fa4      PH   81  2017-04-18  2017-03-21      16.0     0.00   \n",
      "946186  fffd0a9fa4      PH   82  2017-05-07  2017-03-21      17.0     0.00   \n",
      "946187  fffd0a9fa4      PH   50  2017-05-30  2017-03-21      18.0     0.00   \n",
      "946188  fffd0a9fa4      PH    9  2017-05-17  2017-03-21      17.0     0.00   \n",
      "946189  fffd0a9fa4      PH  112  2017-04-03  2017-03-21      12.0     0.00   \n",
      "946190  fffd0a9fa4      PH   30  2017-04-12  2017-03-21      14.0     0.00   \n",
      "946191  fffd0a9fa4      PH  450  2017-03-22  2017-03-21       8.0     0.00   \n",
      "946192  fffd0a9fa4      PH   72  2017-05-20  2017-03-21      17.0     0.00   \n",
      "946193  fffd0a9fa4      PH   73  2017-04-26  2017-03-21      16.0     0.00   \n",
      "946194  fffd0a9fa4      PH  133  2017-03-29  2017-03-21      12.0     0.00   \n",
      "\n",
      "        transactions  quest  m_quests  crystals  store_enters  \n",
      "0                NaN    NaN       NaN       NaN           NaN  \n",
      "1                0.0    8.0       3.0       0.0           0.0  \n",
      "2                2.0   84.0      26.0       0.0           0.0  \n",
      "3                0.0   24.0       7.0       0.0           0.0  \n",
      "4                4.0   29.0      11.0       0.0           0.0  \n",
      "5                1.0   19.0       5.0       0.0           0.0  \n",
      "6                0.0    3.0       0.0       0.0           0.0  \n",
      "7                NaN    NaN       NaN       NaN           NaN  \n",
      "8                0.0   45.0       7.0       0.0           0.0  \n",
      "9                0.0   14.0       4.0       0.0           0.0  \n",
      "10               0.0   52.0      13.0       0.0           0.0  \n",
      "11               1.0    6.0       2.0       0.0           0.0  \n",
      "12               0.0   45.0       7.0       0.0           0.0  \n",
      "13               0.0    0.0       0.0       0.0           0.0  \n",
      "14               0.0   15.0       2.0       0.0           0.0  \n",
      "15               0.0    5.0       2.0       0.0           0.0  \n",
      "16               0.0   10.0       2.0       0.0           0.0  \n",
      "17               0.0   16.0       5.0       0.0           0.0  \n",
      "18               NaN    NaN       NaN       NaN           NaN  \n",
      "19               0.0   11.0       2.0       0.0           0.0  \n",
      "20               0.0   11.0       2.0       0.0           0.0  \n",
      "21               0.0   41.0       4.0       0.0           0.0  \n",
      "22               0.0    4.0       1.0       0.0           0.0  \n",
      "23               NaN    NaN       NaN       NaN           NaN  \n",
      "24               0.0    3.0       2.0       0.0           0.0  \n",
      "25               0.0    3.0       2.0       0.0           0.0  \n",
      "26               1.0    4.0       2.0       0.0           0.0  \n",
      "27               0.0   21.0       9.0       0.0           0.0  \n",
      "28               0.0    9.0       3.0       0.0           0.0  \n",
      "29               0.0    9.0       1.0       0.0           0.0  \n",
      "...              ...    ...       ...       ...           ...  \n",
      "946165           0.0   22.0       4.0       0.0           0.0  \n",
      "946166           0.0    7.0       2.0       0.0           0.0  \n",
      "946167           0.0    4.0       2.0       0.0           0.0  \n",
      "946168           0.0    0.0       0.0       0.0           0.0  \n",
      "946169           1.0  193.0      33.0       0.0           0.0  \n",
      "946170           0.0    9.0       1.0       0.0           0.0  \n",
      "946171           0.0   15.0       5.0       0.0           0.0  \n",
      "946172           0.0    0.0       0.0       0.0           0.0  \n",
      "946173           0.0    6.0       2.0       0.0           0.0  \n",
      "946174           0.0   19.0       4.0       0.0           0.0  \n",
      "946175           NaN    NaN       NaN       NaN           NaN  \n",
      "946176           0.0   16.0       3.0       0.0           0.0  \n",
      "946177           0.0    0.0       0.0       0.0           0.0  \n",
      "946178           0.0   14.0       2.0       0.0           0.0  \n",
      "946179           0.0    7.0       3.0       0.0           0.0  \n",
      "946180           0.0   22.0       3.0       0.0           0.0  \n",
      "946181           0.0    7.0       2.0       0.0           0.0  \n",
      "946182           0.0   16.0       4.0       0.0           0.0  \n",
      "946183           0.0    0.0       0.0       0.0           0.0  \n",
      "946184           0.0    0.0       0.0       0.0           0.0  \n",
      "946185           0.0   14.0       2.0       0.0           0.0  \n",
      "946186           0.0   15.0       5.0       0.0           0.0  \n",
      "946187           0.0    8.0       2.0       0.0           0.0  \n",
      "946188           0.0    7.0       2.0       0.0           0.0  \n",
      "946189           0.0    6.0       3.0       0.0           0.0  \n",
      "946190           0.0    1.0       1.0       0.0           0.0  \n",
      "946191           0.0   96.0      21.0       0.0           0.0  \n",
      "946192           0.0    7.0       1.0       0.0           0.0  \n",
      "946193           0.0   13.0       3.0       0.0           0.0  \n",
      "946194           0.0   13.0       3.0       0.0           0.0  \n",
      "\n",
      "[946195 rows x 12 columns]\n"
     ]
    }
   ],
   "source": [
    "print(dau_pact)\n",
    "dau_pact.to_csv('pay_players_dau_pact.csv')"
   ]
  },
  {
   "cell_type": "code",
   "execution_count": 65,
   "metadata": {
    "collapsed": false,
    "deletable": true,
    "editable": true
   },
   "outputs": [],
   "source": [
    "dau2 = pd.read_csv('pay_players_dau.csv', parse_dates=True).drop('Unnamed: 0', axis='columns')"
   ]
  },
  {
   "cell_type": "code",
   "execution_count": 27,
   "metadata": {
    "collapsed": false,
    "deletable": true,
    "editable": true
   },
   "outputs": [],
   "source": [
    "dau_pact = dau_pact.set_index('actdate', drop=False).sort_index(0)"
   ]
  },
  {
   "cell_type": "code",
   "execution_count": 75,
   "metadata": {
    "collapsed": false,
    "deletable": true,
    "editable": true
   },
   "outputs": [
    {
     "name": "stdout",
     "output_type": "stream",
     "text": [
      "       actdate  pgr\n",
      "0   2017-04-07  119\n",
      "1   2017-04-08  196\n",
      "2   2017-04-09  347\n",
      "3   2017-04-10   25\n",
      "4   2017-04-11   48\n",
      "5   2017-04-12  107\n",
      "6   2017-04-13  231\n",
      "7   2017-04-14   60\n",
      "8   2017-04-15  117\n",
      "9   2017-04-16   75\n",
      "10  2017-04-17  188\n",
      "11  2017-04-18   61\n",
      "12  2017-04-19   87\n",
      "13  2017-04-20   55\n",
      "14  2017-04-21  119\n",
      "15  2017-04-22   98\n",
      "16  2017-04-23  227\n",
      "17  2017-04-24  298\n",
      "18  2017-04-25   68\n",
      "19  2017-04-26   39\n",
      "20  2017-04-27  267\n",
      "21  2017-04-28  162\n",
      "22  2017-04-29  115\n",
      "23  2017-04-30  202\n",
      "24  2017-05-01  114\n",
      "25  2017-05-02  197\n",
      "26  2017-05-03  252\n",
      "27  2017-05-04  124\n",
      "28  2017-05-05   65\n",
      "29  2017-05-06   88\n",
      "30  2017-05-07   98\n",
      "31  2017-05-08   19\n",
      "32  2017-05-09   65\n",
      "33  2017-05-10  107\n",
      "34  2017-05-11   43\n",
      "35  2017-05-12   31\n",
      "36  2017-05-13   12\n",
      "37  2017-05-14   67\n",
      "38  2017-05-15  167\n",
      "39  2017-05-16   88\n",
      "40  2017-05-17    6\n",
      "41  2017-05-18  106\n",
      "42  2017-05-19   23\n",
      "43  2017-05-20   10\n",
      "44  2017-05-21    8\n",
      "45  2017-05-22   64\n",
      "46  2017-05-23   55\n",
      "47  2017-05-24   57\n",
      "48  2017-05-25   86\n",
      "49  2017-05-26   20\n",
      "50  2017-05-27   72\n",
      "51  2017-05-28  125\n",
      "52  2017-05-29   87\n",
      "53  2017-05-30   13\n",
      "54  2017-05-31   36\n",
      "55  2017-06-01  103\n",
      "2017-04-07 2017-05-07\n"
     ]
    },
    {
     "data": {
      "image/png": "[encoded data removed]",
      "text/plain": [
       "<matplotlib.figure.Figure at 0x7f860f990358>"
      ]
     },
     "metadata": {},
     "output_type": "display_data"
    }
   ],
   "source": [
    "player_table = pd.DataFrame({'id': ['00371a21a9']})\n",
    "res = pd.merge(player_table, dau_pact, on=['id'], how='left')\n",
    "#print(res)\n",
    "res = res.drop(['crystals', 'store_enters', 'm_quests', 'quest', \n",
    "                'revenue', 'transactions', 'country', 'clusters'], axis='columns')\n",
    "res = res.groupby(['actdate'], as_index=False).sum()\n",
    "res = res.set_index('actdate')\n",
    "res = res.sort_index(0)\n",
    "res = res.reset_index()\n",
    "print(res)\n",
    "first_day = res['actdate'][0]\n",
    "m_later_day = pd.date_range(first_day, periods=31, freq='D').date[-1]\n",
    "print(first_day, str(m_later_day))\n",
    "new_sample_df = res.set_index('actdate').loc[first_day:str(m_later_day)]\n",
    "new_sample_df.plot()\n",
    "plt.show()"
   ]
  },
  {
   "cell_type": "code",
   "execution_count": 84,
   "metadata": {
    "collapsed": true,
    "deletable": true,
    "editable": true
   },
   "outputs": [],
   "source": []
  },
  {
   "cell_type": "code",
   "execution_count": null,
   "metadata": {
    "collapsed": true,
    "deletable": true,
    "editable": true
   },
   "outputs": [],
   "source": []
  }
 ],
 "metadata": {
  "kernelspec": {
   "display_name": "Python 3",
   "language": "python",
   "name": "python3"
  },
  "language_info": {
   "codemirror_mode": {
    "name": "ipython",
    "version": 3
   },
   "file_extension": ".py",
   "mimetype": "text/x-python",
   "name": "python",
   "nbconvert_exporter": "python",
   "pygments_lexer": "ipython3",
   "version": "3.4.3"
  }
 },
 "nbformat": 4,
 "nbformat_minor": 2
}
